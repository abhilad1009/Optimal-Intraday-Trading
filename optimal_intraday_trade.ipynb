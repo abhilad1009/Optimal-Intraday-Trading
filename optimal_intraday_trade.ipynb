{
  "nbformat": 4,
  "nbformat_minor": 0,
  "metadata": {
    "colab": {
      "name": "notebook.ipynb",
      "provenance": [],
      "collapsed_sections": []
    },
    "kernelspec": {
      "display_name": "Python 3",
      "language": "python",
      "name": "python3"
    },
    "language_info": {
      "codemirror_mode": {
        "name": "ipython",
        "version": 3
      },
      "file_extension": ".py",
      "mimetype": "text/x-python",
      "name": "python",
      "nbconvert_exporter": "python",
      "pygments_lexer": "ipython3",
      "version": "3.5.2"
    }
  },
  "cells": [
    {
      "cell_type": "markdown",
      "metadata": {
        "id": "1EtCD_8DfnFK"
      },
      "source": [
        "## Optimal time for intraday trading.\r\n",
        "\r\n",
        "Our goal is to find the best time to trade a stock to maximize profit at the end of 2 days.\r\n",
        "\r\n",
        "Following assumptions are set for the solution provided here:\r\n",
        "\r\n",
        "\r\n",
        "*   This is intraday trading, i.e. we sell all the stocks bought on the same day.\r\n",
        "*   There can be only 1 trade in a day, i.e. 1 buy and 1 sell operation.\r\n",
        "*   Stocks cannot be bought and sold at the same minute of the day.\r\n",
        "*   We buy at low and sell at high price values.\r\n",
        "\r\n"
      ]
    },
    {
      "cell_type": "code",
      "metadata": {
        "colab": {
          "base_uri": "https://localhost:8080/"
        },
        "id": "6cizErTtS6OP",
        "outputId": "49f2b346-bb40-4762-d223-a28403dc072f"
      },
      "source": [
        "# from google.colab import drive\n",
        "# drive.mount('/content/drive')"
      ],
      "execution_count": 1,
      "outputs": [
        {
          "output_type": "stream",
          "text": [
            "Mounted at /content/drive\n"
          ],
          "name": "stdout"
        }
      ]
    },
    {
      "cell_type": "code",
      "metadata": {
        "colab": {
          "base_uri": "https://localhost:8080/"
        },
        "id": "A56Q2ONmS2uk",
        "outputId": "4a7c082c-3782-41f8-ea14-d5d42949abe9"
      },
      "source": [
        "# %cd drive/MyDrive/COLAB"
      ],
      "execution_count": 2,
      "outputs": [
        {
          "output_type": "stream",
          "text": [
            "/content/drive/MyDrive/COLAB\n"
          ],
          "name": "stdout"
        }
      ]
    },
    {
      "cell_type": "markdown",
      "metadata": {
        "id": "6SKgi6uJVp4L"
      },
      "source": [
        "\r\n",
        "\r\n",
        "---\r\n",
        "\r\n",
        "\r\n",
        "We import necessary libraries to handle stocks data."
      ]
    },
    {
      "cell_type": "code",
      "metadata": {
        "id": "jqOfHYOSTN8X"
      },
      "source": [
        "import pandas as pd\r\n",
        "import matplotlib.pyplot as plt"
      ],
      "execution_count": 21,
      "outputs": []
    },
    {
      "cell_type": "markdown",
      "metadata": {
        "id": "xg6sMkcrVxEk"
      },
      "source": [
        "\r\n",
        "\r\n",
        "---\r\n",
        "\r\n",
        "\r\n",
        "Dataset file: 'stock_dataset_1.json'\r\n",
        "\r\n",
        "We load the json file to a dataframe and check total number of rows and view first few rows."
      ]
    },
    {
      "cell_type": "code",
      "metadata": {
        "colab": {
          "base_uri": "https://localhost:8080/",
          "height": 213
        },
        "id": "Pw2QUTxiTP-m",
        "outputId": "0b5bd41e-3339-4397-d46e-aae44c85df56"
      },
      "source": [
        "stocks=pd.read_json('stock_dataset_1.json')\r\n",
        "print(len(stocks))\r\n",
        "stocks.head()"
      ],
      "execution_count": 22,
      "outputs": [
        {
          "output_type": "stream",
          "text": [
            "747\n"
          ],
          "name": "stdout"
        },
        {
          "output_type": "execute_result",
          "data": {
            "text/html": [
              "<div>\n",
              "<style scoped>\n",
              "    .dataframe tbody tr th:only-of-type {\n",
              "        vertical-align: middle;\n",
              "    }\n",
              "\n",
              "    .dataframe tbody tr th {\n",
              "        vertical-align: top;\n",
              "    }\n",
              "\n",
              "    .dataframe thead th {\n",
              "        text-align: right;\n",
              "    }\n",
              "</style>\n",
              "<table border=\"1\" class=\"dataframe\">\n",
              "  <thead>\n",
              "    <tr style=\"text-align: right;\">\n",
              "      <th></th>\n",
              "      <th>datetime</th>\n",
              "      <th>open</th>\n",
              "      <th>high</th>\n",
              "      <th>low</th>\n",
              "      <th>close</th>\n",
              "      <th>volume</th>\n",
              "    </tr>\n",
              "  </thead>\n",
              "  <tbody>\n",
              "    <tr>\n",
              "      <th>0</th>\n",
              "      <td>2021-02-04 09:15:00+05:30</td>\n",
              "      <td>1307.00</td>\n",
              "      <td>1307.00</td>\n",
              "      <td>1298.80</td>\n",
              "      <td>1299.05</td>\n",
              "      <td>134</td>\n",
              "    </tr>\n",
              "    <tr>\n",
              "      <th>1</th>\n",
              "      <td>2021-02-04 09:16:00+05:30</td>\n",
              "      <td>1299.05</td>\n",
              "      <td>1301.00</td>\n",
              "      <td>1299.05</td>\n",
              "      <td>1300.95</td>\n",
              "      <td>284</td>\n",
              "    </tr>\n",
              "    <tr>\n",
              "      <th>2</th>\n",
              "      <td>2021-02-04 09:17:00+05:30</td>\n",
              "      <td>1300.95</td>\n",
              "      <td>1301.00</td>\n",
              "      <td>1298.80</td>\n",
              "      <td>1298.80</td>\n",
              "      <td>188</td>\n",
              "    </tr>\n",
              "    <tr>\n",
              "      <th>3</th>\n",
              "      <td>2021-02-04 09:18:00+05:30</td>\n",
              "      <td>1298.80</td>\n",
              "      <td>1298.80</td>\n",
              "      <td>1287.00</td>\n",
              "      <td>1287.00</td>\n",
              "      <td>321</td>\n",
              "    </tr>\n",
              "    <tr>\n",
              "      <th>4</th>\n",
              "      <td>2021-02-04 09:19:00+05:30</td>\n",
              "      <td>1287.00</td>\n",
              "      <td>1294.45</td>\n",
              "      <td>1287.00</td>\n",
              "      <td>1290.70</td>\n",
              "      <td>48</td>\n",
              "    </tr>\n",
              "  </tbody>\n",
              "</table>\n",
              "</div>"
            ],
            "text/plain": [
              "                   datetime     open     high      low    close  volume\n",
              "0 2021-02-04 09:15:00+05:30  1307.00  1307.00  1298.80  1299.05     134\n",
              "1 2021-02-04 09:16:00+05:30  1299.05  1301.00  1299.05  1300.95     284\n",
              "2 2021-02-04 09:17:00+05:30  1300.95  1301.00  1298.80  1298.80     188\n",
              "3 2021-02-04 09:18:00+05:30  1298.80  1298.80  1287.00  1287.00     321\n",
              "4 2021-02-04 09:19:00+05:30  1287.00  1294.45  1287.00  1290.70      48"
            ]
          },
          "metadata": {
            "tags": []
          },
          "execution_count": 22
        }
      ]
    },
    {
      "cell_type": "markdown",
      "metadata": {
        "id": "1QfCmAFMWN4b"
      },
      "source": [
        "\r\n",
        "\r\n",
        "---\r\n",
        "\r\n",
        "\r\n",
        "There are rows where no trade is done, i.e. volume of stock = 0.\r\n",
        "\r\n",
        "We drop such rows as we cannot buy or sell stocks at that time and count the remaining number of rows."
      ]
    },
    {
      "cell_type": "code",
      "metadata": {
        "colab": {
          "base_uri": "https://localhost:8080/"
        },
        "id": "na_ycTa_XMUZ",
        "outputId": "d33d3201-ca27-4a3c-e0d1-682674d16877"
      },
      "source": [
        "stocks.drop(stocks[stocks.volume == 0].index,inplace=True)\r\n",
        "print(len(stocks))"
      ],
      "execution_count": 23,
      "outputs": [
        {
          "output_type": "stream",
          "text": [
            "557\n"
          ],
          "name": "stdout"
        }
      ]
    },
    {
      "cell_type": "markdown",
      "metadata": {
        "id": "-2XlsYb5Wqw0"
      },
      "source": [
        "\r\n",
        "\r\n",
        "---\r\n",
        "\r\n",
        "\r\n",
        "We have to do intraday trading, so we separate the stocks data according to days.\r\n",
        "\r\n",
        "Since we have only 2 days worth of data, we manually separate the data using specific date filter. If we do not know the number of different days, then we create new dataframe whenever we encounter different date than previous one."
      ]
    },
    {
      "cell_type": "code",
      "metadata": {
        "colab": {
          "base_uri": "https://localhost:8080/"
        },
        "id": "vmHfveoPTj65",
        "outputId": "6cbaff45-e5ec-4f57-b4de-0d3c4d47ae46"
      },
      "source": [
        "Day1=stocks[stocks['datetime'].dt.day==4]\r\n",
        "Day1.reset_index(inplace=True)\r\n",
        "print(len(Day1))\r\n",
        "Day2=stocks[stocks['datetime'].dt.day==5]\r\n",
        "Day2.reset_index(inplace=True)\r\n",
        "print(len(Day2))"
      ],
      "execution_count": 24,
      "outputs": [
        {
          "output_type": "stream",
          "text": [
            "300\n",
            "257\n"
          ],
          "name": "stdout"
        }
      ]
    },
    {
      "cell_type": "markdown",
      "metadata": {
        "id": "3hiqlYlwe2-y"
      },
      "source": [
        "\r\n",
        "\r\n",
        "---\r\n",
        "\r\n",
        "\r\n",
        "We visualize the high and low prices of stock on day 1 and day 2."
      ]
    },
    {
      "cell_type": "code",
      "metadata": {
        "colab": {
          "base_uri": "https://localhost:8080/",
          "height": 513
        },
        "id": "_7xOEo0jnktO",
        "outputId": "7e25b0fc-7a42-475e-c253-99d7b58e3e88"
      },
      "source": [
        "plt.plot(Day1['high'])\r\n",
        "plt.plot(Day1['low'])\r\n",
        "plt.legend(['high','low'])\r\n",
        "plt.show()\r\n",
        "\r\n",
        "plt.plot(Day2['high'])\r\n",
        "plt.plot(Day2['low'])\r\n",
        "plt.legend(['high','low'])\r\n",
        "plt.show()"
      ],
      "execution_count": 25,
      "outputs": [
        {
          "output_type": "display_data",
          "data": {
            "image/png": "[encoded data removed]",
            "text/plain": [
              "<Figure size 432x288 with 1 Axes>"
            ]
          },
          "metadata": {
            "tags": [],
            "needs_background": "light"
          }
        },
        {
          "output_type": "display_data",
          "data": {
            "image/png": "[encoded data removed]",
            "text/plain": [
              "<Figure size 432x288 with 1 Axes>"
            ]
          },
          "metadata": {
            "tags": [],
            "needs_background": "light"
          }
        }
      ]
    },
    {
      "cell_type": "markdown",
      "metadata": {
        "id": "5prqw0otXZwF"
      },
      "source": [
        "\r\n",
        "\r\n",
        "---\r\n",
        "\r\n",
        "\r\n",
        "Function to get the best time for buying and selling stock in a day.\r\n",
        "\r\n",
        "We buy the stocks at low and sell at high, provided there are enough volume of stocks available during selling time.\r\n",
        "\r\n",
        "We update buy and sell time everytime we encounter a better profit value.\r\n",
        "\r\n",
        "Profit = (Sell_Price-Buy_Price)*Volume\r\n",
        "\r\n",
        "The function returns following:\r\n",
        "\r\n",
        "\r\n",
        "\r\n",
        "*   Buying Time\r\n",
        "*   Selling Time\r\n",
        "*   Profit\r\n",
        "*   Volume\r\n",
        "\r\n",
        "Time complexity: O(N^2) ; where N is number of rows in dataset\r\n",
        "\r\n",
        "Space complexity: O(1)\r\n",
        "\r\n",
        "\r\n"
      ]
    },
    {
      "cell_type": "code",
      "metadata": {
        "id": "u8AHVudKVP6A"
      },
      "source": [
        "def gettradetime(stockinfo):\r\n",
        "  curr_profit=-1\r\n",
        "  buy=None\r\n",
        "  sell=None\r\n",
        "  volume=None\r\n",
        "  for i in range(len(stockinfo)):\r\n",
        "      for j in range(i+1,len(stockinfo)):\r\n",
        "        if stockinfo.loc[j,'volume'] >= stockinfo.loc[i,'volume']:\r\n",
        "          profit=(stockinfo.loc[j,'high']-stockinfo.loc[i,'low'])*stockinfo.loc[i,'volume']\r\n",
        "          \r\n",
        "          if profit>curr_profit:\r\n",
        "            # print(profit,curr_profit)\r\n",
        "            volume=stockinfo.loc[i,'volume']\r\n",
        "            curr_profit=profit\r\n",
        "            buy=stockinfo.loc[i,'datetime']\r\n",
        "            sell=stockinfo.loc[j,'datetime']\r\n",
        "  return {'buy':buy,'sell':sell,'profit':curr_profit,'volume':volume}\r\n"
      ],
      "execution_count": 26,
      "outputs": []
    },
    {
      "cell_type": "markdown",
      "metadata": {
        "id": "B-B5Xvqocj35"
      },
      "source": [
        "Function to print the output in proper format."
      ]
    },
    {
      "cell_type": "code",
      "metadata": {
        "id": "8RckSnEQmi5D"
      },
      "source": [
        "def printstock(data):\r\n",
        "  print('Date: ',data['buy'].day,'-',data['buy'].month,'-',data['buy'].year)\r\n",
        "  print('Buying time: ',data['buy'].hour,':',data['buy'].minute)\r\n",
        "  print('Selling time: ',data['sell'].hour,':',data['sell'].minute)\r\n",
        "  print('Number of stocks traded: ',data['volume'])\r\n",
        "  print('Profit on trade: ',data['profit'])"
      ],
      "execution_count": 27,
      "outputs": []
    },
    {
      "cell_type": "markdown",
      "metadata": {
        "id": "KF2T7AzpcrJ7"
      },
      "source": [
        "\r\n",
        "\r\n",
        "---\r\n",
        "\r\n",
        "\r\n",
        "day1trade contains optimal time for Day1 \r\n",
        "\r\n",
        "day2trade contains optimal time for Day2\r\n",
        "\r\n",
        "Finally we print the profit at the end of 2 days."
      ]
    },
    {
      "cell_type": "code",
      "metadata": {
        "colab": {
          "base_uri": "https://localhost:8080/"
        },
        "id": "CO2AfN_MX5Pb",
        "outputId": "639ca531-266a-4502-eef6-23d772d414cb"
      },
      "source": [
        "day1trade=gettradetime(Day1)\r\n",
        "printstock(day1trade)\r\n",
        "print(\"\")\r\n",
        "day2trade=gettradetime(Day2)\r\n",
        "printstock(day2trade)\r\n",
        "print(\"\")\r\n",
        "print(\"Profit at end of 2 days: \",day1trade['profit']+day2trade['profit'])"
      ],
      "execution_count": 28,
      "outputs": [
        {
          "output_type": "stream",
          "text": [
            "Date:  4 - 2 - 2021\n",
            "Buying time:  14 : 23\n",
            "Selling time:  14 : 56\n",
            "Number of stocks traded:  497\n",
            "Profit on trade:  6461.0\n",
            "\n",
            "Date:  5 - 2 - 2021\n",
            "Buying time:  9 : 21\n",
            "Selling time:  9 : 38\n",
            "Number of stocks traded:  1095\n",
            "Profit on trade:  30386.25\n",
            "\n",
            "Profit at end of 2 days:  36847.25\n"
          ],
          "name": "stdout"
        }
      ]
    }
  ]
}